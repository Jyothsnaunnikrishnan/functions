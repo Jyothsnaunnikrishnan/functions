{
  "nbformat": 4,
  "nbformat_minor": 0,
  "metadata": {
    "colab": {
      "provenance": []
    },
    "kernelspec": {
      "name": "python3",
      "display_name": "Python 3"
    },
    "language_info": {
      "name": "python"
    }
  },
  "cells": [
    {
      "cell_type": "markdown",
      "source": [
        "#1.What is the difference between interpreted and complied languages?\n",
        "  - The main difference between compiled and interpreted languages is how the code is executed:\n",
        "-  Compiled languages\n",
        "The code is converted into machine language once, and then executed. This results in faster execution times.\n",
        "- Interpreted languages\n",
        "The code is compiled and executed line by line each time the program is run. This results in slower execution times.\n",
        "#2.What is exception handling in python?\n",
        "  - Exception handling in Python is a way to manage errors that occur during program execution. It allows a program to continue running or exit gracefully instead of crashing\n",
        "#3.What is the use of fanally block inexception handling?\n",
        "  - The finally block executes whether exception rise or not and whether exception handled or not.\n",
        "#4.What is logging in python?\n",
        "  - In Python, \"logging\" refers to a built-in module that allows developers to track and record events happening within their program, such as errors, warnings, or informational messages.\n",
        "#5.What is the significane of __del__method in python?\n",
        "  - The __del__ method in Python is a powerful tool for managing resource cleanup when objects are destroyed. It allows you to define specific actions that should be taken when an object is garbage collected, such as closing files, releasing locks, or closing network connections.\n",
        "#6.What is the difference between import and from __import in python?\n",
        "  - Import is used to import codes from different modules. Form _import is used to import arttributes from different packages.\n",
        "#7.How can you handle multiple exceptions in python?\n",
        "  - Use a try-except block to catch and respond to one or more exceptions\n",
        "Specify the exception types as a tuple in the except clause\n",
        "Separate each exception type with a vertical bar (|)\n",
        "#8.What is the purpose of with satement while handling files in python?\n",
        "  - In Python, the with statement replaces a try-catch block with a concise shorthand. More importantly, it ensures closing resources right after processing them.\n",
        "#9.What is the difference between multithreading and multi processing?\n",
        "- Multiprocessing uses multiple CPUs to run many processes at a time while multithreading creates multiple threads within a single process to get faster and more efficient task execution. Both Multiprocessing and Multithreading are used to increase the computing power of a system in different ways.\n",
        "#10.What are the advantages of using logging in a program?\n",
        "  - Logging is essential to understand the behaviour of the application and to debug unexpected issues or for simply tracking events.\n",
        "#11. What is memory management in python?\n",
        "  - Memory management in Python is the process of allocating and freeing up memory for programs to run efficiently.\n",
        "#12. What rae the basic steps involved in exception handling in python?\n",
        "  - The basic steps for exception handling in Python are to use the try, except, else, and finally blocks. These blocks allow the program to catch and respond to errors, preventing the program from crashing.\n",
        "#13. Why is memory management important in python?\n",
        "  - Memory management in Python is important because it allows programs to run efficiently and prevents memory leaks. It also helps you write faster, more efficient code.\n",
        "#14.What is the role o try and except in exception handling?\n",
        "  - In Python, the try and except blocks are used to handle exceptions, or errors, in code. The try block tests code for errors, and the except block handles those errors.\n",
        "#15.How does python's garbage collecting sysyem work?\n",
        "  - Python's garbage collection system primarily uses a combination of \"reference counting\" and \"generational garbage collection\" to automatically identify and reclaim memory occupied by objects that are no longer in use.\n",
        "#16.What is the purpose of else block in exception handling?\n",
        "  - The 'else' block is executed when there are no exceptions raised within the try block. The 'else' block is useful when you want to perform specific actions when no exceptions occur.\n",
        "#17. What are the common logging levels in python?\n",
        "  - The specific log levels available to you may defer depending on the programming language, logging framework, or service in use. However, in most cases, you can expect to encounter levels such as FATAL , ERROR , WARN , INFO , DEBUG , and TRACE.\n",
        "#18. What is the difference between os.fork() and multiprocessing in python?\n",
        "  - consider fork() a lower-level interface to forking a program, and the multiprocessing library to be a higher-level interface to forking.\n",
        "#19.What is the importance of closing a file in python?\n",
        "  - Closing a file after use is important because it frees up system resources that are being used by the file.\n",
        "#20.What is the difference betwwen file.read() and file.readline() in python?\n",
        "  - The `read()` method will read the entire content of the file or stream if no argument is provided, returning a string. On the other hand, the `readline()` method reads a single line up to the newline character (`\\n`) and returns it as a string. If there are no more lines to read, it will return an empty string.\n",
        "#21. What is the logging module in python is used for?\n",
        "  - The \"logging\" module in Python is used to track and record events that occur during a program's execution, allowing developers to systematically log information like errors, warnings, and debugging messages.\n",
        "#22. What is the os module in python used in file handling?\n",
        "  - Python has a built-in os module with methods for interacting with the operating system, like creating files and directories, management of files and directories, input, output, environment variables, process management.\n",
        "#23.What are the challenges associated with memory management in python?\n",
        "  - Memory management in Python can be challenging because of memory leaks, inefficient memory usage, and slower program runtimes.\n",
        "#24. How do you raise an exception manually in python?\n",
        "  - To manually raise an exception in Python, use the raise statement.\n",
        "#25.Why is it important to use multithreading in certain applications?\n",
        "  - Multithreading is important in certain applications because it can improve performance, scalability, and system reliability. Multithreading allows a program to run multiple tasks simultaneously by dividing them into smaller threads."
      ],
      "metadata": {
        "id": "x3mpqFW4yzSw"
      }
    },
    {
      "cell_type": "code",
      "source": [
        "#1 How can you open an file for writing in python and write a string to it?\n",
        "file = open(\"file.txt\", \"w\")\n",
        "file.write(\"Hello, World\\n hello Reena\\n hai reena\")\n",
        "file.close()"
      ],
      "metadata": {
        "id": "rlYB7CH5ES0O"
      },
      "execution_count": 9,
      "outputs": []
    },
    {
      "cell_type": "code",
      "source": [
        "#2. write a python program to read the contents of a file and print each line?\n",
        "file = open(\"file.txt\", \"r\")\n",
        "lines = file.readlines()\n",
        "for line in lines:\n",
        "    print(line)\n",
        "file.close()"
      ],
      "metadata": {
        "id": "LdBRiaEhhopB",
        "colab": {
          "base_uri": "https://localhost:8080/"
        },
        "outputId": "1777af20-4c70-4e49-c98d-16bbca40e498"
      },
      "execution_count": 10,
      "outputs": [
        {
          "output_type": "stream",
          "name": "stdout",
          "text": [
            "Hello, World\n",
            "\n",
            " hello Reena\n",
            "\n",
            " hai reena\n"
          ]
        }
      ]
    },
    {
      "cell_type": "code",
      "source": [
        "#3.How would you handle a case where the file doesn't exist while trying to open it for reading?\n",
        "try:\n",
        "  file = open(\"example.txt\", \"r\")\n",
        "  lines = file.readlines()\n",
        "  for line in lines:\n",
        "    print(line)\n",
        "except FileNotFoundError:\n",
        "    print(\"File not found\")\n",
        "file.close()"
      ],
      "metadata": {
        "colab": {
          "base_uri": "https://localhost:8080/"
        },
        "id": "vcBQoJ4dE92d",
        "outputId": "23b9178c-cb0b-4d8d-a29b-9e7b9eb8e9b6"
      },
      "execution_count": 11,
      "outputs": [
        {
          "output_type": "stream",
          "name": "stdout",
          "text": [
            "File not found\n"
          ]
        }
      ]
    },
    {
      "cell_type": "code",
      "source": [
        "#4.Write a python progran that reads from one file and writes its contents to another file?\n",
        "file1 = open(\"file1.txt\", \"w\")\n",
        "file1 = open(\"file1.txt\", \"r\")\n",
        "file2 = open(\"file2.txt\", \"w\")\n",
        "lines = file1.readlines()\n",
        "for line in lines:\n",
        "    file2.write(line)\n",
        "file1.close()\n",
        "file2.close()"
      ],
      "metadata": {
        "id": "8zlwHeQoHChy"
      },
      "execution_count": 13,
      "outputs": []
    },
    {
      "cell_type": "code",
      "source": [
        "#5.How do ypu catch and handle dividion by zero error in python?\n",
        "try:\n",
        "  5/0\n",
        "except ZeroDivisionError as e:\n",
        "  print(\"Error: Division by zero\",e)"
      ],
      "metadata": {
        "colab": {
          "base_uri": "https://localhost:8080/"
        },
        "id": "x2PvdwErHiOU",
        "outputId": "30b308ea-cd04-4435-82d6-5c1a37f1fc53"
      },
      "execution_count": 14,
      "outputs": [
        {
          "output_type": "stream",
          "name": "stdout",
          "text": [
            "Error: Division by zero division by zero\n"
          ]
        }
      ]
    },
    {
      "cell_type": "code",
      "source": [
        "#6. Write a python profgram that logs an error message to a log file when a division byn zero exception occurs?\n",
        "\n",
        "import logging\n",
        "\n",
        "def division_with_logging():\n",
        "    try:\n",
        "        result = 10 / 0\n",
        "    except ZeroDivisionError:\n",
        "        # Configure logging\n",
        "        logging.basicConfig(filename='error.log', level=logging.ERROR,\n",
        "                            format='%(asctime)s - %(levelname)s - %(message)s')\n",
        "        logging.error(\"Division by zero occurred\")\n",
        "\n",
        "division_with_logging()"
      ],
      "metadata": {
        "colab": {
          "base_uri": "https://localhost:8080/"
        },
        "id": "ASBguRzQIL-S",
        "outputId": "2f173e2c-9413-4047-d0d5-bfd88e03150a"
      },
      "execution_count": 15,
      "outputs": [
        {
          "output_type": "stream",
          "name": "stderr",
          "text": [
            "ERROR:root:Division by zero occurred\n"
          ]
        }
      ]
    },
    {
      "cell_type": "code",
      "source": [
        "#7. How do ypu log info at different levels(INFO,ERROR,WARNING)in python by using a logging module\n",
        "import logging\n",
        "\n",
        "def log_different_levels():\n",
        "    # Configure logging\n",
        "    logging.basicConfig(filename='app.log', level=logging.DEBUG,  # Set the root logger level\n",
        "                        format='%(asctime)s - %(levelname)s - %(message)s')\n",
        "\n",
        "    # Log messages at different levels\n",
        "    logging.debug('This is a debug message.')\n",
        "    logging.info('This is an informational message.')\n",
        "    logging.warning('This is a warning message.')\n",
        "    logging.error('This is an error message.')\n",
        "    logging.critical('This is a critical message.')\n",
        "\n",
        "\n",
        "log_different_levels()\n"
      ],
      "metadata": {
        "colab": {
          "base_uri": "https://localhost:8080/"
        },
        "id": "msAu06f3I_D4",
        "outputId": "bef7dac2-11af-4223-976d-5ee28382d2ce"
      },
      "execution_count": 16,
      "outputs": [
        {
          "output_type": "stream",
          "name": "stderr",
          "text": [
            "WARNING:root:This is a warning message.\n",
            "ERROR:root:This is an error message.\n",
            "CRITICAL:root:This is a critical message.\n"
          ]
        }
      ]
    },
    {
      "cell_type": "code",
      "source": [
        "#8. Write a program to handle a file opening error using exception handling?\n",
        "try:\n",
        "  file = open(\"f.txt\", \"r\")\n",
        "  lines = file.readlines()\n",
        "  for line in lines:\n",
        "    print(line)\n",
        "except FileNotFoundError as e:\n",
        "    print(\"File not found\",e)\n",
        "file.close()"
      ],
      "metadata": {
        "colab": {
          "base_uri": "https://localhost:8080/"
        },
        "id": "LwViOehtJo6F",
        "outputId": "db93ec7a-5029-4989-a2c7-bd4bcf1e5ca4"
      },
      "execution_count": 17,
      "outputs": [
        {
          "output_type": "stream",
          "name": "stdout",
          "text": [
            "File not found [Errno 2] No such file or directory: 'f.txt'\n"
          ]
        }
      ]
    },
    {
      "cell_type": "code",
      "source": [
        "#9. How can you read a file line by line and store its contents in list in python?\n",
        "file = open(\"file.txt\", \"r\")\n",
        "lines = file.readlines()\n",
        "for line in lines:\n",
        "  print([line])\n",
        "file.close()\n",
        "\n",
        ""
      ],
      "metadata": {
        "colab": {
          "base_uri": "https://localhost:8080/"
        },
        "id": "0dPFO6qqKLbA",
        "outputId": "b7b9b8db-3ce6-4dc2-a41c-c25b71a4837c"
      },
      "execution_count": 21,
      "outputs": [
        {
          "output_type": "stream",
          "name": "stdout",
          "text": [
            "['Hello, World\\n']\n",
            "[' hello Reena\\n']\n",
            "[' hai reena']\n"
          ]
        }
      ]
    },
    {
      "cell_type": "code",
      "source": [
        "#10. How can you append data in an existing file in python?\n",
        "file = open(\"file.txt\", \"a\")\n",
        "file.write(\"Hello, World\\n hello Reena\\n hai reena, hai renu\")\n",
        "file.close()"
      ],
      "metadata": {
        "id": "CwVJEHAPKgHu"
      },
      "execution_count": 22,
      "outputs": []
    },
    {
      "cell_type": "code",
      "source": [
        "#11.Write a python program that uses a try-except block to handle an error when attempting to acess a dic jkey that doesn't exist?\n",
        "d={\"a\":1,\"b\":2,\"c\":3}\n",
        "try:\n",
        "  print(d[\"d\"])\n",
        "except KeyError:\n",
        "  print(\"Key not found\")\n",
        "finally:\n",
        " print (d[\"c\"])"
      ],
      "metadata": {
        "colab": {
          "base_uri": "https://localhost:8080/"
        },
        "id": "o9wgrQk9MNJ_",
        "outputId": "4b4871a1-7304-4481-e15b-bc2e5c2e4ec0"
      },
      "execution_count": 34,
      "outputs": [
        {
          "output_type": "stream",
          "name": "stdout",
          "text": [
            "Key not found\n",
            "3\n"
          ]
        }
      ]
    },
    {
      "cell_type": "code",
      "source": [
        "#12.Write a python program that demonstrates using multiple except blocks to handle dufferent types od exceptions?\n",
        "try:\n",
        "  45/0\n",
        "  print(78/\"a\")\n",
        "except ZeroDivisionError:\n",
        "    print(\"Error: Division by zero\")\n",
        "\n",
        "except TypeError:\n",
        "    print(\"Error: Type error\")"
      ],
      "metadata": {
        "colab": {
          "base_uri": "https://localhost:8080/"
        },
        "id": "c_4-sv0FNWXy",
        "outputId": "4f5135df-7d65-4657-de2d-044fefc65baf"
      },
      "execution_count": 37,
      "outputs": [
        {
          "output_type": "stream",
          "name": "stdout",
          "text": [
            "Error: Division by zero\n"
          ]
        }
      ]
    },
    {
      "cell_type": "code",
      "source": [
        "#13.How do you check if a file exist before attempting to read a file?\n",
        "import os\n",
        "if os.path.exists(\"file.txt\"):\n",
        "    file = open(\"file.txt\", \"r\")\n",
        "    lines = file.readlines()\n",
        "    for line in lines:\n",
        "      print(line)"
      ],
      "metadata": {
        "colab": {
          "base_uri": "https://localhost:8080/"
        },
        "id": "8A0VqhJSOp1K",
        "outputId": "85251b15-015d-4535-8a62-2069a78504ec"
      },
      "execution_count": 38,
      "outputs": [
        {
          "output_type": "stream",
          "name": "stdout",
          "text": [
            "Hello, World\n",
            "\n",
            " hello Reena\n",
            "\n",
            " hai reenaHello, World\n",
            "\n",
            " hello Reena\n",
            "\n",
            " hai reena, hai renu\n"
          ]
        }
      ]
    },
    {
      "cell_type": "code",
      "source": [
        "#15.Write a python program that prints the contents o a file and handles the case if the file is empty?\n",
        "file = open(\"file.txt\", \"r\")\n",
        "lines = file.readlines()\n",
        "if not lines:\n",
        "  print(\"File is empty\")\n",
        "else:\n",
        "  for line in lines:\n",
        "    print(line)\n",
        "file.close()"
      ],
      "metadata": {
        "colab": {
          "base_uri": "https://localhost:8080/"
        },
        "id": "kw16Mh_hPL3o",
        "outputId": "5f9c77d3-eef0-4003-8a0a-df95e178e440"
      },
      "execution_count": 39,
      "outputs": [
        {
          "output_type": "stream",
          "name": "stdout",
          "text": [
            "Hello, World\n",
            "\n",
            " hello Reena\n",
            "\n",
            " hai reenaHello, World\n",
            "\n",
            " hello Reena\n",
            "\n",
            " hai reena, hai renu\n"
          ]
        }
      ]
    },
    {
      "cell_type": "code",
      "source": [
        "#17. Write a python program to create and write a list of numbers to a file,one number per line?\n",
        "file = open(\"file.txt\", \"w\")\n",
        "numbers = [1, 2, 3, 4, 5]\n",
        "for number in numbers:\n",
        "    print(number)\n",
        "file.close()"
      ],
      "metadata": {
        "colab": {
          "base_uri": "https://localhost:8080/"
        },
        "id": "GV0VvvBnPrCL",
        "outputId": "1a3201b8-c394-438b-9cb5-28a071811625"
      },
      "execution_count": 40,
      "outputs": [
        {
          "output_type": "stream",
          "name": "stdout",
          "text": [
            "1\n",
            "2\n",
            "3\n",
            "4\n",
            "5\n"
          ]
        }
      ]
    },
    {
      "cell_type": "code",
      "source": [
        "#19. Write a program that handles both Indexerror and Keyerror using a try-except block?\n",
        "try:\n",
        "  d={\"a\":1,\"b\":2,\"c\":3}\n",
        "  print(d[\"d\"])\n",
        "except KeyError:\n",
        "  print(\"Key not found\")\n",
        "except IndexError:\n",
        "  print(\"Index not found\")\n",
        "finally:\n",
        " print (d[\"c\"])"
      ],
      "metadata": {
        "colab": {
          "base_uri": "https://localhost:8080/"
        },
        "id": "8zot7Vc3Q_LH",
        "outputId": "7c364c7b-7367-478f-f51e-1236b609a724"
      },
      "execution_count": 41,
      "outputs": [
        {
          "output_type": "stream",
          "name": "stdout",
          "text": [
            "Key not found\n",
            "3\n"
          ]
        }
      ]
    },
    {
      "cell_type": "code",
      "source": [
        "#20.How would you open and read its contents using a context manager in pyth\n",
        "with open(\"file.txt\",'r') as file:\n",
        "  lines = file.readlines()\n",
        "  for line in lines:\n",
        "    print(line)\n",
        "\n"
      ],
      "metadata": {
        "id": "mZ8C8O6QRdzC"
      },
      "execution_count": 49,
      "outputs": []
    },
    {
      "cell_type": "code",
      "source": [
        "#21. Write a python program that reads a file and prints the number of occurance of a specific word?\n",
        "with open(\"file.txt\",'a') as file:\n",
        "  file.write(\"hai hello\\n hai hello\\n hai\")\n",
        "with open(\"file.txt\",'r') as file:\n",
        "  for line in lines:\n",
        "    count=0\n",
        "  if \"hai\" in line:\n",
        "    count=count+1\n",
        "  print(count)"
      ],
      "metadata": {
        "colab": {
          "base_uri": "https://localhost:8080/"
        },
        "id": "EMrg_81lSqGD",
        "outputId": "1bb9992b-3397-4893-cec8-2971ec8edd88"
      },
      "execution_count": 66,
      "outputs": [
        {
          "output_type": "stream",
          "name": "stdout",
          "text": [
            "1\n"
          ]
        }
      ]
    },
    {
      "cell_type": "code",
      "source": [
        "#22. How can you check if a file is empty before attempting to read its contents?\n",
        "import os\n",
        "if os.stat(\"file.txt\").st_size == 0:\n",
        "  print(\"File is empty\")\n"
      ],
      "metadata": {
        "id": "8SIxnk_oX6cW"
      },
      "execution_count": 67,
      "outputs": []
    },
    {
      "cell_type": "code",
      "source": [],
      "metadata": {
        "id": "zVKhYQPOZXmM"
      },
      "execution_count": null,
      "outputs": []
    }
  ]
}